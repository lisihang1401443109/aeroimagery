{
 "cells": [
  {
   "cell_type": "code",
   "execution_count": 22,
   "metadata": {},
   "outputs": [],
   "source": [
    "import pickle\n",
    "from gensim.models import KeyedVectors\n",
    "from transformers import CLIPProcessor, CLIPModel, AutoTokenizer\n",
    "import torch\n",
    "import numpy as np"
   ]
  },
  {
   "cell_type": "code",
   "execution_count": 2,
   "metadata": {},
   "outputs": [],
   "source": [
    "class WordEmbedder(torch.nn.Module):\n",
    "\n",
    "    def __init__(self):\n",
    "        super(WordEmbedder, self).__init__()\n",
    "        self.model = CLIPModel.from_pretrained(\"openai/clip-vit-base-patch32\")\n",
    "        # self.processor = CLIPProcessor.from_pretrained(\"openai/clip-vit-base-patch32\")\n",
    "        self.tokenizer = AutoTokenizer.from_pretrained(\"openai/clip-vit-base-patch32\")\n",
    "\n",
    "    def forward(self, input_texts):\n",
    "        processed_inputs = self.tokenizer(input_texts, padding=True, truncation=True, return_tensors=\"pt\")\n",
    "        outputs = self.model.get_text_features(**processed_inputs)\n",
    "        return outputs"
   ]
  },
  {
   "cell_type": "code",
   "execution_count": 3,
   "metadata": {},
   "outputs": [],
   "source": [
    "embed = WordEmbedder()"
   ]
  },
  {
   "cell_type": "code",
   "execution_count": 4,
   "metadata": {},
   "outputs": [],
   "source": [
    "adjectives = ['dark', 'bright', 'red', 'blue']"
   ]
  },
  {
   "cell_type": "code",
   "execution_count": 5,
   "metadata": {},
   "outputs": [],
   "source": [
    "class_names = [\n",
    " 'aero imagery of Airport',\n",
    " 'aero imagery of BareLand',\n",
    " 'aero imagery of BaseballField',\n",
    " 'aero imagery of Beach',\n",
    " 'aero imagery of Bridge',\n",
    " 'aero imagery of Center',\n",
    " 'aero imagery of Church',\n",
    " 'aero imagery of Commercial',\n",
    " 'aero imagery of DenseResidential',\n",
    " 'aero imagery of Desert',\n",
    " 'aero imagery of Farmland',\n",
    " 'aero imagery of Forest',\n",
    " 'aero imagery of Industrial',\n",
    " 'aero imagery of Meadow',\n",
    " 'aero imagery of MediumResidential',\n",
    " 'aero imagery of Mountain',\n",
    " 'aero imagery of Park',\n",
    " 'aero imagery of Parking',\n",
    " 'aero imagery of Playground',\n",
    " 'aero imagery of Pond',\n",
    " 'aero imagery of Port',\n",
    " 'aero imagery of RailwayStation',\n",
    " 'aero imagery of Resort',\n",
    " 'aero imagery of River',\n",
    " 'aero imagery of School',\n",
    " 'aero imagery of SparseResidential',\n",
    " 'aero imagery of Square',\n",
    " 'aero imagery of Stadium',\n",
    " 'aero imagery of StorageTanks',\n",
    " 'aero imagery of Viaduct'\n",
    "]\n",
    " "
   ]
  },
  {
   "cell_type": "code",
   "execution_count": 6,
   "metadata": {},
   "outputs": [],
   "source": [
    "modified_class_names = [\n",
    "    f'{adj} {class_label}' for adj in adjectives for class_label in class_names\n",
    "]"
   ]
  },
  {
   "cell_type": "code",
   "execution_count": 24,
   "metadata": {},
   "outputs": [],
   "source": [
    "with torch.no_grad():\n",
    "    embeddings = embed(class_names + modified_class_names + adjectives)\n",
    "kv = KeyedVectors(vector_size=512)\n",
    "kv.add_vectors(class_names + modified_class_names + adjectives, embeddings.numpy())"
   ]
  },
  {
   "cell_type": "code",
   "execution_count": 28,
   "metadata": {},
   "outputs": [
    {
     "data": {
      "text/plain": [
       "[('bright', 0.2118937075138092),\n",
       " ('bright aero imagery of Beach', 0.19221678376197815),\n",
       " ('bright aero imagery of School', 0.18275639414787292),\n",
       " ('bright aero imagery of RailwayStation', 0.1824687421321869),\n",
       " ('bright aero imagery of Industrial', 0.17214228212833405),\n",
       " ('bright aero imagery of Resort', 0.17184950411319733),\n",
       " ('bright aero imagery of Forest', 0.17086166143417358),\n",
       " ('bright aero imagery of Playground', 0.17047804594039917),\n",
       " ('bright aero imagery of Desert', 0.16464237868785858),\n",
       " ('bright aero imagery of Church', 0.15913262963294983)]"
      ]
     },
     "execution_count": 28,
     "metadata": {},
     "output_type": "execute_result"
    }
   ],
   "source": [
    "# kv.most_similar(\n",
    "#     positive=['bright aero imagery of Airport', 'aero imagery of Forest'],\n",
    "#     negative=['aero imagery of Airport' ]\n",
    "# )\n",
    "kv.most_similar(\n",
    "    positive='bright aero imagery of Airport',\n",
    "    negative='aero imagery of Airport'\n",
    ")"
   ]
  },
  {
   "cell_type": "code",
   "execution_count": 26,
   "metadata": {},
   "outputs": [
    {
     "data": {
      "text/plain": [
       "array([ 1.70031004e-02, -1.71628505e-01,  7.59258866e-03,  1.14711225e-02,\n",
       "       -2.66577303e-02, -8.69839340e-02, -1.22551166e-01, -3.72449875e-01,\n",
       "       -5.44427186e-02, -6.51580468e-02, -1.36438012e-02,  7.69337192e-02,\n",
       "       -1.92082673e-01, -1.48425505e-01,  6.59660250e-02,  1.78295061e-01,\n",
       "       -1.31608263e-01, -3.99440974e-02, -4.21633124e-02,  3.49799544e-03,\n",
       "       -9.83523428e-02,  9.39022601e-02,  9.06825066e-04, -1.03176340e-01,\n",
       "        1.29979849e-01,  7.18982220e-02,  6.12522513e-02,  1.65171623e-02,\n",
       "        7.03807473e-02,  1.89028680e-02,  1.97555512e-01, -1.06432229e-01,\n",
       "       -1.44201070e-02,  1.79693550e-01,  7.59713054e-02, -9.25313830e-02,\n",
       "       -3.53454947e-02,  6.51446208e-02,  2.03149334e-01,  2.64013380e-01,\n",
       "        2.91950524e-01, -5.00544384e-02, -2.41017044e-02, -2.52985179e-01,\n",
       "       -1.14364922e-01,  1.13233924e-04, -9.80196148e-02,  1.06438994e-01,\n",
       "       -1.99030295e-01, -2.07864583e-01,  7.63451904e-02,  2.72645354e-02,\n",
       "       -4.42154706e-02, -2.66675204e-01,  1.23046532e-01,  1.12223402e-01,\n",
       "       -4.20320854e-02, -2.73453332e-02, -1.17373399e-01, -8.30193013e-02,\n",
       "        2.98470348e-01,  2.39928573e-01, -2.11461887e-01,  1.31476074e-01,\n",
       "       -6.83788806e-02,  1.99508026e-01,  1.30021453e-01, -1.14485875e-01,\n",
       "        3.30923200e-02, -1.16271198e-01,  1.14947855e-01, -5.95124364e-02,\n",
       "        2.30913348e-02, -1.52119756e-01,  8.39082822e-02, -1.49060488e-02,\n",
       "       -1.73114553e-01, -6.13697693e-02, -2.54781134e-02, -7.35006109e-03,\n",
       "       -1.23394102e-01, -2.27839649e-01, -1.43913627e-02, -1.55047923e-01,\n",
       "        1.12662464e-01,  1.04399681e-01, -1.77293271e-01,  2.05023840e-01,\n",
       "       -1.43499166e-01,  1.23165861e-01, -3.36495861e-02, -1.33260965e-01,\n",
       "       -2.42854178e-01, -3.52827549e-01, -1.68559581e-01,  8.79555494e-02,\n",
       "        4.45308685e-02,  4.10240889e-02, -6.63614273e-02, -4.59518135e-02,\n",
       "       -3.56638134e-02, -1.53588280e-01,  8.85466337e-02, -1.79216206e-01,\n",
       "        3.43127847e-02, -2.23365873e-02,  4.09637094e-02, -1.71444923e-01,\n",
       "       -7.43908212e-02, -7.03929588e-02, -1.32669494e-01,  3.54507834e-01,\n",
       "        8.15121830e-02, -3.25505286e-02,  1.40631378e-01,  1.31845415e-01,\n",
       "       -9.51362401e-02,  1.78439021e-02,  1.43442407e-01,  1.24538150e-02,\n",
       "       -2.92764246e-01,  8.98283198e-02,  8.66273940e-02, -1.16107315e-01,\n",
       "        1.10518172e-01,  1.29846752e-01, -3.61829549e-02, -2.43127495e-02,\n",
       "       -6.57606870e-02,  6.10772073e-02, -1.19481236e-01, -7.33043104e-02,\n",
       "        1.01480886e-01, -5.02672195e-02,  1.85261697e-01,  5.16187251e-02,\n",
       "       -4.06417251e-02,  7.88994730e-02,  2.60300159e-01, -1.16970725e-01,\n",
       "       -2.18827844e-01, -6.93758130e-02, -1.16023213e-01, -4.88714576e-02,\n",
       "       -3.52576792e-01,  3.79775465e-02,  1.13261372e-01,  1.06198490e-01,\n",
       "        6.14814237e-02,  1.72927707e-01, -9.51669291e-02, -7.83000290e-02,\n",
       "        4.73991781e-02, -1.66986790e-02, -5.44200838e-03,  8.27422217e-02,\n",
       "        2.12958455e-01, -5.40695190e-02,  1.02138996e-01, -6.58152848e-02,\n",
       "       -6.61522970e-02,  2.77886987e-02, -3.97242382e-02,  6.56175613e-02,\n",
       "       -1.23549610e-01,  1.02027677e-01, -1.80592574e-02, -8.62309635e-02,\n",
       "       -1.65130243e-01, -2.82166898e-03, -2.59263277e-01, -1.57306463e-01,\n",
       "       -5.16645871e-02,  5.51211275e-02,  3.95864248e-02,  5.41155040e-02,\n",
       "       -9.63409841e-02, -7.41033256e-03,  5.10532260e-02,  7.87401199e-03,\n",
       "       -1.90645486e-01, -2.34371096e-01, -4.36920822e-02,  1.26467362e-01,\n",
       "        1.37322634e-01, -1.09771922e-01, -7.79250115e-02,  1.60272896e-01,\n",
       "       -1.35347649e-01,  1.47600293e-01,  7.14129955e-03,  2.07796872e-01,\n",
       "        5.21431267e-02, -7.18555599e-02,  1.84583604e-01,  1.25867248e-01,\n",
       "        1.35392740e-01,  1.66199505e-02, -1.65330872e-01, -2.05506891e-01,\n",
       "       -7.81282410e-02,  4.38510180e-02,  1.61086500e-01,  1.85032010e-01,\n",
       "       -1.13818496e-02, -1.32395297e-01,  7.07758069e-02,  3.99231352e-02,\n",
       "       -1.80619955e-02, -4.98201847e-02, -3.31041254e-02, -1.49071157e-01,\n",
       "       -2.33568728e-01,  2.23375149e-02, -2.48854578e-01, -6.07102215e-02,\n",
       "       -1.52592808e-01, -1.33108675e-01,  2.27657743e-02, -6.94183558e-02,\n",
       "       -7.59395957e-02, -1.09113425e-01, -8.40330496e-02,  7.21000135e-02,\n",
       "       -7.43570253e-02,  2.89729536e-02, -1.31035149e-02,  1.00242749e-01,\n",
       "       -7.06719160e-02, -1.49005204e-01,  6.75239861e-02, -1.45108581e-01,\n",
       "        9.44677591e-02, -1.00739688e-01, -3.26336503e-01,  1.36801153e-02,\n",
       "        7.79630393e-02,  2.62202770e-02,  7.90031031e-02, -1.44543782e-01,\n",
       "       -1.34147704e-03, -5.70072234e-03,  8.00248086e-02,  3.54512185e-02,\n",
       "       -1.45547897e-01, -1.17674723e-01,  1.38844207e-01,  4.82159704e-02,\n",
       "        3.49356323e-01, -5.64513206e-02, -3.73648554e-02, -4.48356867e-02,\n",
       "       -2.51243293e-01, -2.55240381e-01, -1.20771721e-01, -3.92348282e-02,\n",
       "        6.86457902e-02,  4.71231490e-02,  1.99117064e-02,  2.51898170e-03,\n",
       "        1.34182274e-02,  3.87044325e-02,  3.86731833e-01, -8.47995281e-03,\n",
       "        1.87871248e-01,  8.99626762e-02, -2.09473610e-01,  1.92930102e-02,\n",
       "       -1.79008842e-01,  1.58326760e-01,  1.33248866e-02, -1.12607449e-01,\n",
       "       -8.32839906e-02, -1.58602595e-02,  6.42783493e-02, -6.94169849e-03,\n",
       "        4.75007296e-03, -1.56106442e-01, -1.37231290e-01,  2.07531035e-01,\n",
       "        1.10075980e-01,  1.41133800e-01,  3.25949788e-02,  1.83646381e-02,\n",
       "        2.39743054e-01, -3.25273097e-01, -1.56948119e-02, -2.76848614e-01,\n",
       "        2.63484806e-01, -1.34688884e-01, -2.94875443e-01,  2.77650468e-02,\n",
       "       -1.00246094e-01, -1.69076532e-01, -7.74647146e-02,  2.66832560e-01,\n",
       "       -1.35092139e-01, -2.18514666e-01, -9.97420251e-02,  1.19044907e-01,\n",
       "       -1.17767483e-01,  3.06771398e-02,  2.08925843e-01,  5.36651313e-02,\n",
       "       -3.95868272e-01,  4.04641807e-01, -6.25092909e-02, -2.78010070e-02,\n",
       "        2.44913548e-02, -9.51015204e-02, -1.04044974e-01, -1.11329973e-01,\n",
       "       -5.40628433e-02, -1.23780914e-01,  4.92569581e-02,  1.57992959e-01,\n",
       "       -6.35802448e-02, -1.33632898e-01,  1.38377637e-01,  2.88501024e-01,\n",
       "       -1.38564095e-01,  4.18739170e-02, -2.25018710e-01,  1.52713582e-01,\n",
       "        1.66516334e-01,  1.08350217e-01, -3.17793489e-02, -5.96067086e-02,\n",
       "        2.03952894e-01, -7.53811240e-01, -3.40029597e-03, -5.45037091e-02,\n",
       "        1.50376469e-01,  4.60206568e-02, -2.05505416e-01, -4.35641371e-02,\n",
       "        9.09295231e-02, -6.90121949e-03,  4.91576791e-02, -1.38794959e-01,\n",
       "       -7.04247653e-02, -7.23553896e-02, -1.36141732e-01,  1.25760362e-02,\n",
       "       -7.12425113e-02, -6.66720122e-02,  1.35298938e-01, -2.73795575e-02,\n",
       "       -1.40333086e-01,  3.86711955e-03, -3.91258955e-01,  1.24386810e-02,\n",
       "       -5.38702607e-02, -9.09680128e-02,  2.09545448e-01,  7.43639469e-03,\n",
       "        1.94185376e-02,  3.82350624e-01, -3.62991057e-02,  1.14715099e-03,\n",
       "        3.04545909e-02, -6.16344586e-02,  2.38776147e-01,  1.35169178e-01,\n",
       "        1.29586041e-01,  1.78693786e-01, -1.36607781e-01, -8.01657587e-02,\n",
       "        1.17041945e-01, -1.79101229e-01,  6.11454248e-03, -8.46102461e-03,\n",
       "       -1.24562487e-01,  4.95145023e-02,  2.36539282e-02,  3.27748120e-01,\n",
       "        2.02189758e-01,  1.09587505e-01,  6.73969835e-03, -1.88333541e-03,\n",
       "       -5.29999882e-02,  1.92489028e-01, -1.29327297e-01, -1.14821963e-01,\n",
       "       -8.29467177e-03,  2.70699501e-01, -1.97994113e-02, -1.13513805e-01,\n",
       "        2.48636246e-01,  5.28006852e-02,  1.43591613e-01, -1.63695067e-02,\n",
       "        1.79588109e-01,  2.10511550e-01, -1.75684839e-01,  1.77381337e-02,\n",
       "        2.52976239e-01, -1.65502131e-02,  2.33844936e-01, -2.60373950e-02,\n",
       "       -2.09996283e-01,  1.05711773e-01, -7.35740066e-02, -1.00785643e-02,\n",
       "       -2.45506987e-02,  9.96590406e-02, -2.98434496e-02,  2.15551853e-02,\n",
       "        2.10091621e-01, -1.34660564e-02,  2.46337354e-02, -5.01309447e-02,\n",
       "        5.27326837e-02, -1.23694599e-01,  3.20936143e-02,  8.93042013e-02,\n",
       "       -1.51539564e-01,  7.57066905e-02,  8.92833099e-02, -1.99848965e-01,\n",
       "        2.22468719e-01,  5.94341680e-02, -5.72258830e-02, -2.65875757e-01,\n",
       "       -5.72410822e-02,  7.97212049e-02,  2.04785913e-01, -3.44605930e-02,\n",
       "       -7.89694637e-02, -1.70879185e-01,  3.48206908e-02, -2.18896121e-02,\n",
       "       -2.44105831e-02,  1.99636728e-01,  2.65073210e-01,  7.79242590e-02,\n",
       "       -2.34015062e-01, -1.16135955e-01, -7.54115134e-02, -1.21884629e-01,\n",
       "        3.08902800e-01,  2.79096961e-02, -5.76609373e-03,  1.98154196e-01,\n",
       "        2.00241245e-02,  1.26943663e-01, -1.06160194e-01, -1.37504667e-01,\n",
       "        8.28611851e-03, -2.37349629e-01,  2.59889215e-01, -5.12005538e-02,\n",
       "        2.08285928e-01,  5.49211055e-02,  1.09099105e-01, -4.86129522e-02,\n",
       "       -4.02111411e-02, -2.06323415e-01, -1.12238057e-01,  2.53719628e-01,\n",
       "       -1.59195215e-01,  2.51803920e-02,  2.42653593e-01,  3.97775620e-02,\n",
       "       -1.59921438e-01, -3.34188551e-01, -1.99016333e-02, -6.08234182e-02,\n",
       "       -1.33476397e-02,  1.16024084e-01,  3.74652743e-02, -1.93117663e-01,\n",
       "       -1.70590609e-01, -1.33357137e-01, -4.42592800e-02,  7.23023713e-02,\n",
       "        3.60054225e-02,  5.92724532e-02, -4.42081094e-02,  8.69428217e-02,\n",
       "       -2.20909029e-01,  5.80028296e-02, -2.65465677e-02, -2.39895836e-01,\n",
       "       -1.22663781e-01,  1.75769329e-02, -1.62487864e-01, -5.04856333e-02,\n",
       "        2.12598369e-01,  8.13092291e-03,  1.68789938e-01,  6.11939915e-02,\n",
       "       -1.35706484e-01, -1.96377665e-01,  1.98539495e-02,  1.59036905e-01,\n",
       "       -1.18366182e-01, -1.97819173e-01,  6.52897358e-02,  1.32142767e-01,\n",
       "        1.39717445e-01, -2.64720693e-02,  1.55649632e-01,  5.49222529e-02,\n",
       "       -4.57775891e-02, -3.42333764e-02, -1.83073252e-01,  1.19740933e-01,\n",
       "        1.28533304e-01, -9.56881344e-02, -5.39131165e-02,  3.01083326e-01],\n",
       "      dtype=float32)"
      ]
     },
     "execution_count": 26,
     "metadata": {},
     "output_type": "execute_result"
    }
   ],
   "source": [
    "kv['bright aero imagery of Airport'] - kv['aero imagery of Airport']"
   ]
  },
  {
   "cell_type": "code",
   "execution_count": 8,
   "metadata": {},
   "outputs": [],
   "source": [
    "embedding_by_adj = {}\n",
    "for adj in adjectives:\n",
    "    embedding_by_adj[adj] = {class_label: kv[f'{adj} {class_label}'] for class_label in class_names}\n",
    "embedding_by_adj['default'] = {class_label: kv[class_label] for class_label in class_names}"
   ]
  },
  {
   "cell_type": "code",
   "execution_count": 9,
   "metadata": {},
   "outputs": [],
   "source": [
    "differences = {}\n",
    "for adj in adjectives:\n",
    "    differences[adj] = {}\n",
    "    for class_label in class_names:\n",
    "        differences[adj][class_label] = (embedding_by_adj[adj][class_label] - embedding_by_adj['default'][class_label])\n"
   ]
  },
  {
   "cell_type": "code",
   "execution_count": 10,
   "metadata": {},
   "outputs": [],
   "source": [
    "from matplotlib import pyplot as plt"
   ]
  },
  {
   "cell_type": "code",
   "execution_count": 11,
   "metadata": {},
   "outputs": [],
   "source": [
    "# fig, axs = plt.subplots(2, 2, figsize=(10, 8))\n",
    "\n",
    "# for i, adj in enumerate(adjectives):\n",
    "#     ax = axs[i // 2, i % 2]\n",
    "#     ax.plot(embedding_by_adj[adj].values(), label=adj, color='blue')\n",
    "#     ax.plot(embedding_by_adj['default'].values(), label='default', color='red')\n",
    "#     ax.set_title(adj)\n",
    "#     ax.legend()\n",
    "\n",
    "# plt.tight_layout()\n",
    "# plt.show()"
   ]
  },
  {
   "cell_type": "code",
   "execution_count": 12,
   "metadata": {},
   "outputs": [],
   "source": [
    "adj_differences = {}\n",
    "for adj in adjectives:\n",
    "    adj_differences[adj] = []\n",
    "    for class_label in class_names:\n",
    "        adj_differences[adj].append(differences)"
   ]
  },
  {
   "cell_type": "code",
   "execution_count": 14,
   "metadata": {},
   "outputs": [],
   "source": [
    "# import pca\n",
    "from sklearn.decomposition import PCA"
   ]
  },
  {
   "cell_type": "code",
   "execution_count": null,
   "metadata": {},
   "outputs": [],
   "source": []
  }
 ],
 "metadata": {
  "kernelspec": {
   "display_name": "aero",
   "language": "python",
   "name": "python3"
  },
  "language_info": {
   "codemirror_mode": {
    "name": "ipython",
    "version": 3
   },
   "file_extension": ".py",
   "mimetype": "text/x-python",
   "name": "python",
   "nbconvert_exporter": "python",
   "pygments_lexer": "ipython3",
   "version": "3.12.7"
  }
 },
 "nbformat": 4,
 "nbformat_minor": 2
}
