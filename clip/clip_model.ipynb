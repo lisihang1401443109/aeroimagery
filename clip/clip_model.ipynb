{
 "cells": [
  {
   "cell_type": "code",
   "execution_count": 1,
   "metadata": {},
   "outputs": [
    {
     "name": "stderr",
     "output_type": "stream",
     "text": [
      "/Users/lixinmei/miniconda3/envs/aero/lib/python3.12/site-packages/tqdm/auto.py:21: TqdmWarning: IProgress not found. Please update jupyter and ipywidgets. See https://ipywidgets.readthedocs.io/en/stable/user_install.html\n",
      "  from .autonotebook import tqdm as notebook_tqdm\n"
     ]
    }
   ],
   "source": [
    "from transformers import CLIPProcessor, CLIPModel\n",
    "import torch\n",
    "from torch.utils.data import DataLoader\n",
    "import pickle\n",
    "from torchvision import transforms\n",
    "from PIL import Image\n",
    "import numpy as np\n",
    "from tqdm import tqdm\n",
    "import seaborn as sb\n"
   ]
  },
  {
   "cell_type": "code",
   "execution_count": 52,
   "metadata": {},
   "outputs": [],
   "source": [
    "model = CLIPModel.from_pretrained('openai/clip-vit-base-patch32')"
   ]
  },
  {
   "cell_type": "code",
   "execution_count": 53,
   "metadata": {},
   "outputs": [],
   "source": [
    "processor = CLIPProcessor.from_pretrained('openai/clip-vit-base-patch32')"
   ]
  },
  {
   "cell_type": "code",
   "execution_count": 54,
   "metadata": {},
   "outputs": [],
   "source": [
    "ds = pickle.load(open('/Users/lixinmei/Desktop/vscode_workspace/aeroimagery/AID/dataset.pkl', 'rb'))"
   ]
  },
  {
   "cell_type": "code",
   "execution_count": 13,
   "metadata": {},
   "outputs": [],
   "source": []
  },
  {
   "cell_type": "code",
   "execution_count": 56,
   "metadata": {},
   "outputs": [],
   "source": [
    "class Clissifier(torch.nn.Module):\n",
    "\n",
    "    def __init__(self, processor, model, class_labels, prefix=\"satellite image of \"):\n",
    "        super().__init__()\n",
    "        self.model = model\n",
    "        self.processor = processor\n",
    "        self.prefix = prefix\n",
    "        self.class_labels = [self.prefix + label for label in class_labels]\n",
    "        self.model.eval()\n",
    "\n",
    "    def forward(self, x):\n",
    "        model_input = self.processor(self.class_labels, x, return_tensors=\"pt\", padding=True)\n",
    "        model_output = self.model(**model_input)\n",
    "\n",
    "        # get the max in the output\n",
    "        logits = model_output.logits_per_image\n",
    "        # print(model_output.logits_per_image)\n",
    "        max_labels = torch.argmax(logits, dim=1)\n",
    "        return max_labels\n"
   ]
  },
  {
   "cell_type": "code",
   "execution_count": 92,
   "metadata": {},
   "outputs": [],
   "source": [
    "classifier = Clissifier(processor, model, ds.dataset.features['label'].names, prefix=\"satellite image of \")"
   ]
  },
  {
   "cell_type": "code",
   "execution_count": 93,
   "metadata": {},
   "outputs": [
    {
     "data": {
      "text/plain": [
       "['satellite image of Airport',\n",
       " 'satellite image of BareLand',\n",
       " 'satellite image of BaseballField',\n",
       " 'satellite image of Beach',\n",
       " 'satellite image of Bridge',\n",
       " 'satellite image of Center',\n",
       " 'satellite image of Church',\n",
       " 'satellite image of Commercial',\n",
       " 'satellite image of DenseResidential',\n",
       " 'satellite image of Desert',\n",
       " 'satellite image of Farmland',\n",
       " 'satellite image of Forest',\n",
       " 'satellite image of Industrial',\n",
       " 'satellite image of Meadow',\n",
       " 'satellite image of MediumResidential',\n",
       " 'satellite image of Mountain',\n",
       " 'satellite image of Park',\n",
       " 'satellite image of Parking',\n",
       " 'satellite image of Playground',\n",
       " 'satellite image of Pond',\n",
       " 'satellite image of Port',\n",
       " 'satellite image of RailwayStation',\n",
       " 'satellite image of Resort',\n",
       " 'satellite image of River',\n",
       " 'satellite image of School',\n",
       " 'satellite image of SparseResidential',\n",
       " 'satellite image of Square',\n",
       " 'satellite image of Stadium',\n",
       " 'satellite image of StorageTanks',\n",
       " 'satellite image of Viaduct']"
      ]
     },
     "execution_count": 93,
     "metadata": {},
     "output_type": "execute_result"
    }
   ],
   "source": [
    "classifier.class_labels"
   ]
  },
  {
   "cell_type": "code",
   "execution_count": 94,
   "metadata": {},
   "outputs": [],
   "source": [
    "# transform = transforms.Compose([transforms.ToTensor()])\n",
    "transform = transforms.Compose([\n",
    "    transforms.functional.pil_to_tensor,\n",
    "    lambda x: x.permute(1, 2, 0),\n",
    "    lambda x: x * 255,\n",
    "    lambda x: x.type(torch.uint8),\n",
    "])"
   ]
  },
  {
   "cell_type": "code",
   "execution_count": 95,
   "metadata": {},
   "outputs": [],
   "source": [
    "def my_collate(batch):\n",
    "    '''\n",
    "    input: list of dict {image: PIL.Image, label: int}\n",
    "    output: dict {image: torch.Tensor, label: torch.Tensor}\n",
    "    '''\n",
    "    # return {'image': torch.stack([x['image'] for x in batch]), 'label': torch.tensor([x['label'] for x in batch])}\n",
    "    image_tensor = torch.stack([transform(x['image']) for x in batch])\n",
    "    label_tensor = torch.tensor([x['label'] for x in batch])\n",
    "    return {'image': image_tensor, 'label': label_tensor}"
   ]
  },
  {
   "cell_type": "code",
   "execution_count": 96,
   "metadata": {},
   "outputs": [],
   "source": [
    "dl = DataLoader(ds, batch_size=32, collate_fn=my_collate)"
   ]
  },
  {
   "cell_type": "code",
   "execution_count": 97,
   "metadata": {},
   "outputs": [],
   "source": [
    "first_batch = next(iter(dl))"
   ]
  },
  {
   "cell_type": "code",
   "execution_count": 98,
   "metadata": {},
   "outputs": [
    {
     "data": {
      "text/plain": [
       "torch.Size([32, 600, 600, 3])"
      ]
     },
     "execution_count": 98,
     "metadata": {},
     "output_type": "execute_result"
    }
   ],
   "source": [
    "first_batch['image'].shape"
   ]
  },
  {
   "cell_type": "code",
   "execution_count": 99,
   "metadata": {},
   "outputs": [
    {
     "data": {
      "text/plain": [
       "torch.Size([32, 600, 600, 3])"
      ]
     },
     "execution_count": 99,
     "metadata": {},
     "output_type": "execute_result"
    }
   ],
   "source": [
    "first_batch['image'].shape"
   ]
  },
  {
   "cell_type": "code",
   "execution_count": 100,
   "metadata": {},
   "outputs": [],
   "source": [
    "first_image = ds[0]['image']"
   ]
  },
  {
   "cell_type": "code",
   "execution_count": null,
   "metadata": {},
   "outputs": [],
   "source": []
  },
  {
   "cell_type": "code",
   "execution_count": 101,
   "metadata": {},
   "outputs": [],
   "source": [
    "first_tensor_image = transform(first_image)"
   ]
  },
  {
   "cell_type": "code",
   "execution_count": 102,
   "metadata": {},
   "outputs": [
    {
     "data": {
      "text/plain": [
       "tensor([0])"
      ]
     },
     "execution_count": 102,
     "metadata": {},
     "output_type": "execute_result"
    }
   ],
   "source": [
    "classifier(first_tensor_image)"
   ]
  },
  {
   "cell_type": "code",
   "execution_count": 103,
   "metadata": {},
   "outputs": [],
   "source": [
    "first_numpy_image = np.array(first_image.getdata()).reshape(600, 600, 3)"
   ]
  },
  {
   "cell_type": "code",
   "execution_count": 104,
   "metadata": {},
   "outputs": [],
   "source": [
    "# classifier(first_numpy_image)"
   ]
  },
  {
   "cell_type": "code",
   "execution_count": 105,
   "metadata": {},
   "outputs": [
    {
     "data": {
      "text/plain": [
       "(torch.Size([600, 600, 3]), (600, 600, 3))"
      ]
     },
     "execution_count": 105,
     "metadata": {},
     "output_type": "execute_result"
    }
   ],
   "source": [
    "first_tensor_image.shape, first_numpy_image.shape"
   ]
  },
  {
   "cell_type": "code",
   "execution_count": 106,
   "metadata": {},
   "outputs": [
    {
     "name": "stderr",
     "output_type": "stream",
     "text": [
      "running prediction: 100%|██████████| 1500/1500 [03:35<00:00,  6.95it/s]\n"
     ]
    }
   ],
   "source": [
    "with torch.no_grad():\n",
    "    confusion_matrix = torch.zeros(len(classifier.class_labels), len(classifier.class_labels))\n",
    "    bar = tqdm(total=len(ds), desc='running prediction')\n",
    "    # for batch in dl:\n",
    "    for batch in ds:\n",
    "        # print(batch['label'])\n",
    "        logits = classifier(batch['image'])\n",
    "        # print(logits)\n",
    "        truth = batch['label']\n",
    "        confusion_matrix[truth, logits] += 1\n",
    "        # print(truth, logits)\n",
    "        # bar.update(len(truth))\n",
    "        bar.update(1)\n",
    "\n",
    "\n",
    "        # print(ds.features['label'].names[logits])"
   ]
  },
  {
   "cell_type": "code",
   "execution_count": 110,
   "metadata": {},
   "outputs": [
    {
     "data": {
      "text/plain": [
       "<Axes: >"
      ]
     },
     "execution_count": 110,
     "metadata": {},
     "output_type": "execute_result"
    },
    {
     "data": {
      "image/png": "[encoded data removed]",
      "text/plain": [
       "<Figure size 640x480 with 2 Axes>"
      ]
     },
     "metadata": {},
     "output_type": "display_data"
    }
   ],
   "source": [
    "sb.heatmap(confusion_matrix)"
   ]
  },
  {
   "cell_type": "code",
   "execution_count": 111,
   "metadata": {},
   "outputs": [],
   "source": [
    "# accuracy\n",
    "tp = confusion_matrix.diag()\n",
    "accuracy = tp.sum() / len(ds)\n"
   ]
  },
  {
   "cell_type": "code",
   "execution_count": 112,
   "metadata": {},
   "outputs": [
    {
     "data": {
      "text/plain": [
       "tensor(0.5607)"
      ]
     },
     "execution_count": 112,
     "metadata": {},
     "output_type": "execute_result"
    }
   ],
   "source": [
    "accuracy"
   ]
  },
  {
   "cell_type": "code",
   "execution_count": 113,
   "metadata": {},
   "outputs": [
    {
     "data": {
      "text/plain": [
       "tensor([50., 50., 50., 50., 50., 50., 50., 50., 50., 50., 50., 50., 50., 50.,\n",
       "        50., 50., 50., 50., 50., 50., 50., 50., 50., 50., 50., 50., 50., 50.,\n",
       "        50., 50.])"
      ]
     },
     "execution_count": 113,
     "metadata": {},
     "output_type": "execute_result"
    }
   ],
   "source": [
    "confusion_matrix.sum(axis=1)"
   ]
  },
  {
   "cell_type": "code",
   "execution_count": null,
   "metadata": {},
   "outputs": [],
   "source": []
  },
  {
   "cell_type": "code",
   "execution_count": null,
   "metadata": {},
   "outputs": [],
   "source": []
  }
 ],
 "metadata": {
  "kernelspec": {
   "display_name": "aero",
   "language": "python",
   "name": "python3"
  },
  "language_info": {
   "codemirror_mode": {
    "name": "ipython",
    "version": 3
   },
   "file_extension": ".py",
   "mimetype": "text/x-python",
   "name": "python",
   "nbconvert_exporter": "python",
   "pygments_lexer": "ipython3",
   "version": "3.12.7"
  }
 },
 "nbformat": 4,
 "nbformat_minor": 2
}
